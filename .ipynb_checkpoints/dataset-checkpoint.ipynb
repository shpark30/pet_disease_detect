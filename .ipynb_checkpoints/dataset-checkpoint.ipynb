{
 "cells": [
  {
   "cell_type": "code",
   "execution_count": 121,
   "id": "037f53ef",
   "metadata": {},
   "outputs": [],
   "source": [
    "import os\n",
    "import random\n",
    "import numpy as np\n",
    "import cv2\n",
    "import json\n",
    "from collections import defaultdict\n",
    "import torch\n",
    "from torch.utils.data import Dataset, DataLoader"
   ]
  },
  {
   "cell_type": "code",
   "execution_count": 6,
   "id": "29ed0e7b",
   "metadata": {},
   "outputs": [
    {
     "name": "stdout",
     "output_type": "stream",
     "text": [
      "(1644, 2048, 3)\n"
     ]
    }
   ],
   "source": [
    "sample_jpg = '../../../input/sample/C1_감염성피부염/CYT_D_C1_000001.jpg'\n",
    "sample_json = '../../../input/sample/C1_감염성피부염/CYT_D_C1_000001.json'\n",
    "\n",
    "image = cv2.imread(sample_jpg) # (height, width, channel)\n",
    "image = cv2.cvtColor(image, cv2.COLOR_BGR2RGB)\n",
    "print(image.shape)"
   ]
  },
  {
   "cell_type": "code",
   "execution_count": 33,
   "id": "4f744ca2",
   "metadata": {
    "scrolled": true
   },
   "outputs": [
    {
     "name": "stdout",
     "output_type": "stream",
     "text": [
      "[('C1_감염성피부염', [[[1541, 357], [1572, 622], [1637, 633], [1788, 671], [1964, 671], [2000, 591], [2015, 529], [2024, 491], [2024, 464], [2020, 446], [1928, 422], [1835, 411], [1697, 397], [1541, 357]]])]\n"
     ]
    }
   ],
   "source": [
    "with open(sample_json, 'r') as f:\n",
    "    json_data = json.load(f)\n",
    "    \n",
    "labels, polygons = [], []\n",
    "for anno in json_data['labelingInfo']:\n",
    "    if 'polygon' in anno.keys():\n",
    "        labels.append(anno['polygon']['label'])\n",
    "        coord_set = anno['polygon']['location']\n",
    "        coord = [[[coord_set[poly_i][f'x{coord_i+1}'], coord_set[poly_i][f'y{coord_i+1}']]\n",
    "                  for coord_i in range(len(coord_set[poly_i].keys())//2)] \n",
    "                 for poly_i in range(len(coord_set))]\n",
    "        polygons.append((label, coord))\n",
    "print(polygons)"
   ]
  },
  {
   "cell_type": "code",
   "execution_count": null,
   "id": "559afe49",
   "metadata": {},
   "outputs": [],
   "source": [
    "num_points_per_poly = [len(poly) for poly in polygons]\n",
    "        polygons_2d = np.array([point for poly in polygons for point in poly], dtype=np.int64)\n",
    "        transformed_image, transformed_polygons_2d = self.transform(image, polygons_2d)\n",
    "        transformed_polygons_2d = np.around(transformed_polygons_2d).astype(np.int64) # polygon is pts argument of cv2.fillPoly. So it must be like [np.array([x,y], dtype=np.intxx)]\n",
    "        num_polygons = len(num_points_per_poly)\n",
    "        transformed_polygons_3d = [transformed_polygons_2d[num_points_per_poly[i-1]:num_points_per_poly[i]] \\\n",
    "                                   if i!=0 else transformed_polygons_2d[:num_coord_per_polygon[0]] \\\n",
    "                                   for i in range(num_polygons)]"
   ]
  },
  {
   "cell_type": "code",
   "execution_count": 34,
   "id": "ee3f47a9",
   "metadata": {},
   "outputs": [
    {
     "name": "stdout",
     "output_type": "stream",
     "text": [
      "(1644, 2048, 3)\n",
      "[('C6_비감염성피부염', [[[1213, 857], [1248, 837], [1323, 758], [1386, 710], [1430, 674], [1449, 633], [1449, 624], [1413, 632], [1345, 673], [1266, 734], [1193, 819], [1194, 857], [1213, 857]]])]\n"
     ]
    }
   ],
   "source": [
    "sample_jpg = '../../../input/sample/C2_비감염성피부염/CYT_D_C6_000001.jpg'\n",
    "sample_json = '../../../input/sample/C2_비감염성피부염/CYT_D_C6_000001.json'\n",
    "\n",
    "image = cv2.imread(sample_jpg) # (height, width, channel)\n",
    "image = cv2.cvtColor(image, cv2.COLOR_BGR2RGB)\n",
    "print(image.shape)\n",
    "\n",
    "with open(sample_json, 'r') as f:\n",
    "    json_data = json.load(f)\n",
    "    \n",
    "polygons = []\n",
    "for anno in json_data['labelingInfo']:\n",
    "    if 'polygon' in anno.keys():\n",
    "        label = anno['polygon']['label']\n",
    "        coord_set = anno['polygon']['location']\n",
    "        coord = [[[coord_set[poly_i][f'x{coord_i+1}'], coord_set[poly_i][f'y{coord_i+1}']]\n",
    "                  for coord_i in range(len(coord_set[poly_i].keys())//2)] \n",
    "                 for poly_i in range(len(coord_set))]\n",
    "        polygons.append((label, coord))\n",
    "print(polygons)"
   ]
  },
  {
   "cell_type": "code",
   "execution_count": 35,
   "id": "f0570c72",
   "metadata": {},
   "outputs": [
    {
     "name": "stdout",
     "output_type": "stream",
     "text": [
      "(1080, 1920, 3)\n",
      "[('A7_무증상', [[[592, 611], [578, 629], [578, 686], [599, 714], [621, 721], [638, 698], [631, 624], [592, 611]]])]\n"
     ]
    }
   ],
   "source": [
    "sample_jpg = '../../../input/sample/구진플라크 무증상/IMG_D_A7_207463.jpg'\n",
    "sample_json = '../../../input/sample/구진플라크 무증상/IMG_D_A7_207463.json'\n",
    "\n",
    "image = cv2.imread(sample_jpg) # (height, width, channel)\n",
    "image = cv2.cvtColor(image, cv2.COLOR_BGR2RGB)\n",
    "print(image.shape)\n",
    "\n",
    "with open(sample_json, 'r') as f:\n",
    "    json_data = json.load(f)\n",
    "    \n",
    "polygons = []\n",
    "for anno in json_data['labelingInfo']:\n",
    "    if 'polygon' in anno.keys():\n",
    "        label = anno['polygon']['label']\n",
    "        coord_set = anno['polygon']['location']\n",
    "        coord = [[[coord_set[poly_i][f'x{coord_i+1}'], coord_set[poly_i][f'y{coord_i+1}']]\n",
    "                  for coord_i in range(len(coord_set[poly_i].keys())//2)] \n",
    "                 for poly_i in range(len(coord_set))]\n",
    "        polygons.append((label, coord))\n",
    "print(polygons)"
   ]
  },
  {
   "cell_type": "code",
   "execution_count": 60,
   "id": "a6fa7ff9",
   "metadata": {},
   "outputs": [
    {
     "name": "stdout",
     "output_type": "stream",
     "text": [
      "(1080, 1920, 3)\n",
      "[2] [[[895, 287], [1365, 289], [1333, 809], [946, 815], [896, 290], [895, 287]]]\n"
     ]
    }
   ],
   "source": [
    "sample_jpg = '../../../input/sample/구진플라크 유증상/IMG_D_A1_000001.jpg'\n",
    "sample_json = '../../../input/sample/구진플라크 유증상/IMG_D_A1_000001.json'\n",
    "\n",
    "label_index = {'A7_무증상' : 1,\n",
    "               'A1_구진_플라크': 2}\n",
    "\n",
    "image = cv2.imread(sample_jpg) # (height, width, channel)\n",
    "image = cv2.cvtColor(image, cv2.COLOR_BGR2RGB)\n",
    "print(image.shape)\n",
    "\n",
    "with open(sample_json, 'r') as f:\n",
    "    json_data =json.load(f)\n",
    "labels, polygons = [], []\n",
    "for anno in json_data['labelingInfo']:\n",
    "    if 'polygon' in anno.keys(): # 한 이미지에 1개~ 32개까지 있을 수 있음\n",
    "        # polygon label\n",
    "        labels.append(label_index[anno['polygon']['label']])\n",
    "        # polygon coordinates\n",
    "        coord_set = anno['polygon']['location']\n",
    "        coord = [[[coord_set[poly_i][f'x{coord_i+1}'], coord_set[poly_i][f'y{coord_i+1}']]\n",
    "                  for coord_i in range(len(coord_set[poly_i].keys())//2)]  \n",
    "                 for poly_i in range(len(coord_set))] # 폴리곤 수\n",
    "        polygons += coord\n",
    "print(labels, polygons)"
   ]
  },
  {
   "cell_type": "code",
   "execution_count": 63,
   "id": "16d62652",
   "metadata": {},
   "outputs": [
    {
     "data": {
      "text/plain": [
       "array([[[ 895.,  287.],\n",
       "        [1365.,  289.],\n",
       "        [1333.,  809.],\n",
       "        [ 946.,  815.],\n",
       "        [ 896.,  290.],\n",
       "        [ 895.,  287.]]])"
      ]
     },
     "execution_count": 63,
     "metadata": {},
     "output_type": "execute_result"
    }
   ],
   "source": [
    "\"\"\"\n",
    "(폴리곤 개수, 좌표 개수, xy:2)\n",
    "\"\"\"\n",
    "polygons_3d"
   ]
  },
  {
   "cell_type": "code",
   "execution_count": 61,
   "id": "1dff1e91",
   "metadata": {},
   "outputs": [
    {
     "data": {
      "text/plain": [
       "array([[ 895.,  287.],\n",
       "       [1365.,  289.],\n",
       "       [1333.,  809.],\n",
       "       [ 946.,  815.],\n",
       "       [ 896.,  290.],\n",
       "       [ 895.,  287.]])"
      ]
     },
     "execution_count": 61,
     "metadata": {},
     "output_type": "execute_result"
    }
   ],
   "source": [
    "from functools import reduce\n",
    "def multiply(arr):\n",
    "    return reduce(lambda x, y: x * y, arr)\n",
    "polygons_3d = np.array(polygons, dtype=np.float64)\n",
    "polygons_2d = polygons_3d.reshape(multiply(polygons_3d.shape)//2, 2)\n",
    "polygons_2d"
   ]
  },
  {
   "cell_type": "code",
   "execution_count": 70,
   "id": "ac7e83b1",
   "metadata": {},
   "outputs": [
    {
     "data": {
      "text/plain": [
       "[array([[ 895,  287],\n",
       "        [1365,  289],\n",
       "        [1333,  809],\n",
       "        [ 946,  815],\n",
       "        [ 896,  290],\n",
       "        [ 895,  287]], dtype=int32)]"
      ]
     },
     "execution_count": 70,
     "metadata": {},
     "output_type": "execute_result"
    }
   ],
   "source": [
    "num_points_per_poly = [len(poly) for poly in polygons]\n",
    "polygons_2d = np.array([point for poly in polygons for point in poly], dtype=np.int32)\n",
    "transformed_image, transformed_polygons_2d = image, polygons_2d\n",
    "transformed_polygons_2d = np.around(transformed_polygons_2d).astype(np.int32) # polygon is pts argument of cv2.fillPoly. So it must be like [np.array([x,y], dtype=np.intxx)]\n",
    "num_polygons = len(num_points_per_poly)\n",
    "transformed_polygons_3d = [transformed_polygons_2d[num_points_per_poly[i-1]:num_points_per_poly[i]] \\\n",
    "                           if i!=0 else transformed_polygons_2d[:num_points_per_poly[0]] \\\n",
    "                           for i in range(num_polygons)]\n",
    "transformed_polygons_3d"
   ]
  },
  {
   "cell_type": "code",
   "execution_count": 80,
   "id": "befa9ce1",
   "metadata": {},
   "outputs": [
    {
     "data": {
      "text/plain": [
       "[2]"
      ]
     },
     "execution_count": 80,
     "metadata": {},
     "output_type": "execute_result"
    }
   ],
   "source": [
    "labels"
   ]
  },
  {
   "cell_type": "code",
   "execution_count": 115,
   "id": "824e5c24",
   "metadata": {},
   "outputs": [
    {
     "data": {
      "text/plain": [
       "(1080, 1920, 3)"
      ]
     },
     "execution_count": 115,
     "metadata": {},
     "output_type": "execute_result"
    }
   ],
   "source": [
    "def get_mask(labels, polygons, h, w):\n",
    "    \"\"\" get a numpy mask image. The shape is like [H, W, C] \"\"\"\n",
    "    \n",
    "    mask = np.zeros((h, w, 3), dtype=np.int64)\n",
    "    for i, l in enumerate(labels):\n",
    "        target = np.zeros((h, w))\n",
    "        poly = polygons[0].reshape((1,) + polygons[0].shape)\n",
    "        cv2.fillPoly(target, poly, l, cv2.LINE_AA)\n",
    "        mask[target==l][l] = 1 # label channel\n",
    "        #mask[:,:,0][mask[:,:,l]==0] = 1 # background channel\n",
    "    return mask\n",
    "\n",
    "h, w = image.shape[:2]\n",
    "mask = get_mask(labels, transformed_polygons_3d, h=h, w=w)\n",
    "mask.shape"
   ]
  },
  {
   "cell_type": "code",
   "execution_count": 116,
   "id": "d655163f",
   "metadata": {},
   "outputs": [],
   "source": [
    "mask = np.zeros((h, w, 3), dtype=np.int64)\n",
    "for i, l in enumerate(labels):\n",
    "    target = np.zeros((h, w))\n",
    "    poly = transformed_polygons_3d[0].reshape((1,) + transformed_polygons_3d[0].shape)\n",
    "    cv2.fillPoly(target, poly, 1, cv2.LINE_AA)\n",
    "    mask[:,:,l] += target.astype(np.int64) # label channel\n",
    "    mask = (mask>0).astype(np.int64)\n",
    "    mask[:,:,0][mask[:,:,l]==0] = 1 # background channel"
   ]
  },
  {
   "cell_type": "code",
   "execution_count": 117,
   "id": "82a849b6",
   "metadata": {},
   "outputs": [
    {
     "name": "stdout",
     "output_type": "stream",
     "text": [
      "(1080, 1920, 3) (1080, 1920)\n"
     ]
    }
   ],
   "source": [
    "print(mask.shape, target.shape)"
   ]
  },
  {
   "cell_type": "code",
   "execution_count": 120,
   "id": "4859df44",
   "metadata": {},
   "outputs": [
    {
     "name": "stdout",
     "output_type": "stream",
     "text": [
      "1\n"
     ]
    }
   ],
   "source": [
    "print(np.max(mask[:,:,0]))"
   ]
  },
  {
   "cell_type": "code",
   "execution_count": 114,
   "id": "fc4d5a5e",
   "metadata": {
    "collapsed": true
   },
   "outputs": [
    {
     "data": {
      "text/plain": [
       "array([[[0, 0, 0],\n",
       "        [0, 0, 0],\n",
       "        [0, 0, 0],\n",
       "        ...,\n",
       "        [0, 0, 0],\n",
       "        [0, 0, 0],\n",
       "        [0, 0, 0]],\n",
       "\n",
       "       [[0, 0, 0],\n",
       "        [0, 0, 0],\n",
       "        [0, 0, 0],\n",
       "        ...,\n",
       "        [0, 0, 0],\n",
       "        [0, 0, 0],\n",
       "        [0, 0, 0]],\n",
       "\n",
       "       [[0, 0, 0],\n",
       "        [0, 0, 0],\n",
       "        [0, 0, 0],\n",
       "        ...,\n",
       "        [0, 0, 0],\n",
       "        [0, 0, 0],\n",
       "        [0, 0, 0]],\n",
       "\n",
       "       ...,\n",
       "\n",
       "       [[0, 0, 0],\n",
       "        [0, 0, 0],\n",
       "        [0, 0, 0],\n",
       "        ...,\n",
       "        [0, 0, 0],\n",
       "        [0, 0, 0],\n",
       "        [0, 0, 0]],\n",
       "\n",
       "       [[0, 0, 0],\n",
       "        [0, 0, 0],\n",
       "        [0, 0, 0],\n",
       "        ...,\n",
       "        [0, 0, 0],\n",
       "        [0, 0, 0],\n",
       "        [0, 0, 0]],\n",
       "\n",
       "       [[0, 0, 0],\n",
       "        [0, 0, 0],\n",
       "        [0, 0, 0],\n",
       "        ...,\n",
       "        [0, 0, 0],\n",
       "        [0, 0, 0],\n",
       "        [0, 0, 0]]])"
      ]
     },
     "execution_count": 114,
     "metadata": {},
     "output_type": "execute_result"
    }
   ],
   "source": [
    "mask[:,:,l] += target.astype(np.int64)\n",
    "(mask > 0).astype(np.int64)"
   ]
  },
  {
   "cell_type": "code",
   "execution_count": 85,
   "id": "f2d84875",
   "metadata": {},
   "outputs": [
    {
     "data": {
      "text/plain": [
       "0"
      ]
     },
     "execution_count": 85,
     "metadata": {},
     "output_type": "execute_result"
    }
   ],
   "source": [
    "np.max(mask[:,:,2])"
   ]
  },
  {
   "cell_type": "code",
   "execution_count": 1,
   "id": "740d341b",
   "metadata": {},
   "outputs": [],
   "source": [
    "import os\n",
    "import random\n",
    "import numpy as np\n",
    "import cv2\n",
    "import json\n",
    "from collections import defaultdict\n",
    "import torch\n",
    "from torch.utils.data import Dataset, DataLoader\n",
    "from dataloader import pet_papule_plaque_dataset\n",
    "\n",
    "root = '../../../input/data/구진플라크'\n",
    "\n",
    "dataset = pet_papule_plaque_dataset(root, 'train', 0.2, 0.2, 0.4, 512)"
   ]
  },
  {
   "cell_type": "code",
   "execution_count": null,
   "id": "78d85983",
   "metadata": {},
   "outputs": [],
   "source": [
    "'IMG_D_A1_012874.json'[-15:-5]"
   ]
  },
  {
   "cell_type": "code",
   "execution_count": 5,
   "id": "9c528f6a",
   "metadata": {},
   "outputs": [
    {
     "data": {
      "text/plain": [
       "'1.10.0+cu111'"
      ]
     },
     "execution_count": 5,
     "metadata": {},
     "output_type": "execute_result"
    }
   ],
   "source": [
    "torch.__version__"
   ]
  },
  {
   "cell_type": "code",
   "execution_count": 4,
   "id": "d12f55a6",
   "metadata": {},
   "outputs": [
    {
     "name": "stdout",
     "output_type": "stream",
     "text": [
      "50705\n",
      "16902\n",
      "16902\n"
     ]
    }
   ],
   "source": [
    "print(len(dataset))\n",
    "dataset('valid')\n",
    "print(len(dataset))\n",
    "dataset('test')\n",
    "print(len(dataset))"
   ]
  },
  {
   "cell_type": "code",
   "execution_count": 2,
   "id": "223b89e1",
   "metadata": {},
   "outputs": [
    {
     "name": "stdout",
     "output_type": "stream",
     "text": [
      "torch.Size([3, 512, 512])\n",
      "torch.Size([512, 512])\n"
     ]
    }
   ],
   "source": [
    "print(dataset[0]['input'].shape)\n",
    "print(dataset[0]['mask'].shape)"
   ]
  },
  {
   "cell_type": "code",
   "execution_count": 3,
   "id": "2e1f9b00",
   "metadata": {},
   "outputs": [
    {
     "name": "stdout",
     "output_type": "stream",
     "text": [
      "tensor(2)\n",
      "tensor(0)\n"
     ]
    }
   ],
   "source": [
    "print(torch.max(dataset[0]['mask']))\n",
    "print(torch.min(dataset[0]['mask']))"
   ]
  },
  {
   "cell_type": "code",
   "execution_count": 2,
   "id": "9dbbf252",
   "metadata": {},
   "outputs": [
    {
     "data": {
      "text/plain": [
       "'IMG_D_A1_012874'"
      ]
     },
     "execution_count": 2,
     "metadata": {},
     "output_type": "execute_result"
    }
   ],
   "source": [
    "i = 4\n",
    "dataset = pet_papule_plaque_dataset(root = '../../../input/data/구진플라크', 'train', 0.2, 0.2, 0.4, 512)\n",
    "for data in dataset[i*batch_size:(i+1)*batch_size]:\n",
    "    print(data['img_name'])"
   ]
  }
 ],
 "metadata": {
  "kernelspec": {
   "display_name": "Python 3",
   "language": "python",
   "name": "python3"
  },
  "language_info": {
   "codemirror_mode": {
    "name": "ipython",
    "version": 3
   },
   "file_extension": ".py",
   "mimetype": "text/x-python",
   "name": "python",
   "nbconvert_exporter": "python",
   "pygments_lexer": "ipython3",
   "version": "3.6.9"
  }
 },
 "nbformat": 4,
 "nbformat_minor": 5
}
